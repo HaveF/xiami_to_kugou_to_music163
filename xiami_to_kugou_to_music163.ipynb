{
 "metadata": {
  "name": ""
 },
 "nbformat": 3,
 "nbformat_minor": 0,
 "worksheets": [
  {
   "cells": [
    {
     "cell_type": "code",
     "collapsed": false,
     "input": [
      "from xiami import *\n",
      "xiami = Xiami(username='XXXXXXX', password='XXXXXXXXX', taobao=True)"
     ],
     "language": "python",
     "metadata": {},
     "outputs": []
    },
    {
     "cell_type": "code",
     "collapsed": false,
     "input": [
      "stared = xiami.get_stared_songs()"
     ],
     "language": "python",
     "metadata": {},
     "outputs": []
    },
    {
     "cell_type": "code",
     "collapsed": false,
     "input": [
      "first_line = \"<?xml version=\\\"1.0\\\" encoding=\\\"windows-1252\\\"?><List ListName=\\\"xiami\\\">\"\n",
      "last_line = \"</List>\"\n",
      "fo = open(\"kugou.kgl\", \"w+\")\n",
      "fo.writelines(first_line)\n",
      "for idx, song_id in enumerate(stared):\n",
      "    print str(idx) + '/' + str(len(stared))\n",
      "    song_info = xiami.download_song(song_id)\n",
      "    fo.writelines(\"<File><FileName>\" + song_info[u'artist'] + \" - \" + song_info[u'title'] + \".mp3</FileName></File>\")\n",
      "\n",
      "fo.writelines(last_line)\n",
      "fo.close()"
     ],
     "language": "python",
     "metadata": {},
     "outputs": []
    }
   ],
   "metadata": {}
  }
 ]
}